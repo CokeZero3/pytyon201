{
 "metadata": {
  "language_info": {
   "codemirror_mode": {
    "name": "ipython",
    "version": 3
   },
   "file_extension": ".py",
   "mimetype": "text/x-python",
   "name": "python",
   "nbconvert_exporter": "python",
   "pygments_lexer": "ipython3",
   "version": 3
  },
  "orig_nbformat": 2
 },
 "nbformat": 4,
 "nbformat_minor": 2,
 "cells": [
  {
   "cell_type": "code",
   "execution_count": null,
   "metadata": {},
   "outputs": [],
   "source": [
    "\"\"\"\n",
    "- 변수(칼럼) 타입 확인: 데이터.dtypes\n",
    "-변수를 범주형으로 변경:\n",
    "    - 데이터['칼럼명'].astype('category')\n",
    "-변수를 수치형으로 변경\n",
    "    -데이터[''].astype('int')\n",
    "    -데이터[''].astype('float')\n",
    "- NA 값의 처리\n",
    "    - NA 갯수 체크: 데이터.isna().sum()\n",
    "    - NA 값 채우기: 데이터['칼럼명'].fillna(특정숫자)\n",
    "\"\"\""
   ]
  }
 ]
}