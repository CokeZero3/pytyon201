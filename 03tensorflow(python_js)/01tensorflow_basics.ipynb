{
 "metadata": {
  "language_info": {
   "codemirror_mode": {
    "name": "ipython",
    "version": 3
   },
   "file_extension": ".py",
   "mimetype": "text/x-python",
   "name": "python",
   "nbconvert_exporter": "python",
   "pygments_lexer": "ipython3",
   "version": "3.8.3-final"
  },
  "orig_nbformat": 2,
  "kernelspec": {
   "name": "python3",
   "display_name": "Python 3",
   "language": "python"
  }
 },
 "nbformat": 4,
 "nbformat_minor": 2,
 "cells": [
  {
   "cell_type": "code",
   "execution_count": 1,
   "metadata": {},
   "outputs": [
    {
     "output_type": "execute_result",
     "data": {
      "text/plain": [
       "'\\n딥러닝 입문\\n1. 파이썬 기초\\n2. 데이터 입문\\n3. 머신러닝 이해\\n4. 딥러닝의 원리\\n5. 딥러닝 구현\\n\\n<지도학습의 빅픽처>\\n원인      |     결과\\n독립변수  |     종속변수\\n\\n온도      |     판매량\\n\\n1. 과거의 데이터를 준비\\n2. 모델의 구조를 만듭니다.\\n3. 데이터로 모델을 학습합니다.\\n4. 모델을 사용합니다. \\n'"
      ]
     },
     "metadata": {},
     "execution_count": 1
    }
   ],
   "source": [
    "\"\"\"\n",
    "딥러닝 입문\n",
    "1. 파이썬 기초\n",
    "2. 데이터 입문\n",
    "3. 머신러닝 이해\n",
    "4. 딥러닝의 원리\n",
    "5. 딥러닝 구현\n",
    "\n",
    "<지도학습의 빅픽처>\n",
    "원인      |     결과\n",
    "독립변수  |     종속변수\n",
    "\n",
    "온도      |     판매량\n",
    "\n",
    "1. 과거의 데이터를 준비\n",
    "2. 모델의 구조를 만듭니다.\n",
    "3. 데이터로 모델을 학습합니다.\n",
    "4. 모델을 사용합니다. \n",
    "\n",
    "#데이터 불러오기\n",
    "\n",
    "파일경로 = \"lemonade.csv\"\n",
    "데이터 = pd.read_csv(파일경로)\n",
    "\n",
    "#독립변수, 종속변수 분리\n",
    "독립 = 데이터[['온도']]\n",
    "종속 = 데이터[['판매량']]\n",
    "\n",
    "#데이터 모양 확인 \n",
    "print(독립.shape, 종속.shape)\n",
    "\n",
    "Tensorflow 101 - 7 <레모네이드 판매 예측>\n",
    "#2. 모델의 구조를 만듭니다\n",
    "X = tf.keras.layers.Input(shape=[1])\n",
    "Y = tf.keras.layers.Dense(1)(X)\n",
    "model = tf.keras.models.Model(X, Y)\n",
    "model.compile(loss='mse')\n",
    "\n",
    "ensorflow 101 - 7 <레모네이드 판매 예측>\n",
    "#2. 모델의 구조를 만듭니다\n",
    "X = tf.keras.layers.Input(shape=[1])\n",
    "Y = tf.keras.layers.Dense(1)(X)\n",
    "model = tf.keras.models.Model(X, Y)\n",
    "model.compile(loss='mse')\n",
    "\n",
    "#3. 데이터로 모델을 학습(fit))합니다\n",
    "model.fit(독립, 종속, epochs=1000, verbose=0)\n",
    "model.fit(독립, 종속, epochs=10)\n",
    "    여기서 epochs 전체 데이터를 몇번 학습할지 명령을 해주는 것\n",
    "#4. 모델을 이용합니다.\n",
    "print(model.predict(독립))\n",
    "print(model.predict([[15]]))\n",
    "\"\"\""
   ]
  },
  {
   "cell_type": "code",
   "execution_count": 13,
   "metadata": {},
   "outputs": [
    {
     "output_type": "stream",
     "name": "stdout",
     "text": [
      "(6, 2) (506, 14) (150, 5)\n   온도  판매량\n0  20   40\n1  21   42\n2  22   44\n3  23   46\n4  24   48\n"
     ]
    }
   ],
   "source": [
    "#pandas 데이터 불러오기\n",
    "import pandas as pd\n",
    "\n",
    "path = \"https://raw.githubusercontent.com/blackdew/tensorflow1/master/csv/lemonade.csv\"\n",
    "lemonade = pd.read_csv(path)\n",
    "\n",
    "path = 'https://raw.githubusercontent.com/blackdew/tensorflow1/master/csv/boston.csv'\n",
    "boston = pd.read_csv(path)\n",
    " \n",
    "path = 'https://raw.githubusercontent.com/blackdew/tensorflow1/master/csv/iris.csv'\n",
    "iris = pd.read_csv(path)"
   ]
  },
  {
   "cell_type": "code",
   "execution_count": 17,
   "metadata": {},
   "outputs": [
    {
     "output_type": "stream",
     "name": "stdout",
     "text": [
      "(6, 2) (506, 14) (150, 5)\n   온도  판매량\n0  20   40\n1  21   42\n2  22   44\n3  23   46\n4  24   48\nIndex(['온도', '판매량'], dtype='object')\nIndex(['crim', 'zn', 'indus', 'chas', 'nox', 'rm', 'age', 'dis', 'rad', 'tax',\n       'ptratio', 'b', 'lstat', 'medv'],\n      dtype='object')\nIndex(['꽃잎길이', '꽃잎폭', '꽃받침길이', '꽃받침폭', '품종'], dtype='object')\n"
     ]
    }
   ],
   "source": [
    "#데이터 확인\n",
    "print(lemonade.shape, boston.shape, iris.shape) #모양\n",
    "print(lemonade.head()) #head() 첫 5개\n",
    "\n",
    "#칼럼 이름 확인\n",
    "print(lemonade.columns)\n",
    "print(boston.columns)\n",
    "print(iris.columns)"
   ]
  },
  {
   "cell_type": "code",
   "execution_count": 27,
   "metadata": {},
   "outputs": [
    {
     "output_type": "stream",
     "name": "stdout",
     "text": [
      "(6, 1) (6, 1)\n(506, 13) (506, 1)\n(150, 4) (150, 1)\n"
     ]
    }
   ],
   "source": [
    "#독립변수 종속변수 분리\n",
    "ind = lemonade[['온도']]\n",
    "dep = lemonade[['판매량']]\n",
    "print(ind.shape, dep.shape)\n",
    "\n",
    "ind = boston[['crim', 'zn', 'indus', 'chas', 'nox', 'rm', 'age', 'dis', 'rad', 'tax', 'ptratio', 'b', 'lstat']]\n",
    "dep = boston[['medv']]\n",
    "print(ind.shape, dep.shape)\n",
    "\n",
    "ind = iris[['꽃잎길이', '꽃잎폭', '꽃받침길이', '꽃받침폭']]\n",
    "dep = iris[['품종']]\n",
    "print(ind.shape, dep.shape)\n"
   ]
  },
  {
   "cell_type": "code",
   "execution_count": 32,
   "metadata": {},
   "outputs": [
    {
     "output_type": "execute_result",
     "data": {
      "text/plain": [
       "   꽃잎길이  꽃잎폭  꽃받침길이  꽃받침폭      품종\n",
       "0   5.1  3.5    1.4   0.2  setosa\n",
       "1   4.9  3.0    1.4   0.2  setosa\n",
       "2   4.7  3.2    1.3   0.2  setosa\n",
       "3   4.6  3.1    1.5   0.2  setosa\n",
       "4   5.0  3.6    1.4   0.2  setosa"
      ],
      "text/html": "<div>\n<style scoped>\n    .dataframe tbody tr th:only-of-type {\n        vertical-align: middle;\n    }\n\n    .dataframe tbody tr th {\n        vertical-align: top;\n    }\n\n    .dataframe thead th {\n        text-align: right;\n    }\n</style>\n<table border=\"1\" class=\"dataframe\">\n  <thead>\n    <tr style=\"text-align: right;\">\n      <th></th>\n      <th>꽃잎길이</th>\n      <th>꽃잎폭</th>\n      <th>꽃받침길이</th>\n      <th>꽃받침폭</th>\n      <th>품종</th>\n    </tr>\n  </thead>\n  <tbody>\n    <tr>\n      <th>0</th>\n      <td>5.1</td>\n      <td>3.5</td>\n      <td>1.4</td>\n      <td>0.2</td>\n      <td>setosa</td>\n    </tr>\n    <tr>\n      <th>1</th>\n      <td>4.9</td>\n      <td>3.0</td>\n      <td>1.4</td>\n      <td>0.2</td>\n      <td>setosa</td>\n    </tr>\n    <tr>\n      <th>2</th>\n      <td>4.7</td>\n      <td>3.2</td>\n      <td>1.3</td>\n      <td>0.2</td>\n      <td>setosa</td>\n    </tr>\n    <tr>\n      <th>3</th>\n      <td>4.6</td>\n      <td>3.1</td>\n      <td>1.5</td>\n      <td>0.2</td>\n      <td>setosa</td>\n    </tr>\n    <tr>\n      <th>4</th>\n      <td>5.0</td>\n      <td>3.6</td>\n      <td>1.4</td>\n      <td>0.2</td>\n      <td>setosa</td>\n    </tr>\n  </tbody>\n</table>\n</div>"
     },
     "metadata": {},
     "execution_count": 32
    }
   ],
   "source": [
    "#head() 앞 5개 데이터 확인\n",
    "# lemonade.head()\n",
    "# boston.head()\n",
    "iris.head()\n"
   ]
  }
 ]
}