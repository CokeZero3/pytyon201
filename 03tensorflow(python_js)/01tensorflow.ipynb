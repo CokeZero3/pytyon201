{
 "metadata": {
  "language_info": {
   "codemirror_mode": {
    "name": "ipython",
    "version": 3
   },
   "file_extension": ".py",
   "mimetype": "text/x-python",
   "name": "python",
   "nbconvert_exporter": "python",
   "pygments_lexer": "ipython3",
   "version": "3.8.3-final"
  },
  "orig_nbformat": 2,
  "kernelspec": {
   "name": "python3",
   "display_name": "Python 3",
   "language": "python"
  }
 },
 "nbformat": 4,
 "nbformat_minor": 2,
 "cells": [
  {
   "cell_type": "code",
   "execution_count": 1,
   "metadata": {},
   "outputs": [
    {
     "output_type": "execute_result",
     "data": {
      "text/plain": [
       "'\\n딥러닝 입문\\n1. 파이썬 기초\\n2. 데이터 입문\\n3. 머신러닝 이해\\n4. 딥러닝의 원리\\n5. 딥러닝 구현\\n\\n<지도학습의 빅픽처>\\n원인      |     결과\\n독립변수  |     종속변수\\n\\n온도      |     판매량\\n\\n1. 과거의 데이터를 준비\\n2. 모델의 구조를 만듭니다.\\n3. 데이터로 모델을 학습합니다.\\n4. 모델을 사용합니다. \\n'"
      ]
     },
     "metadata": {},
     "execution_count": 1
    }
   ],
   "source": [
    "\"\"\"\n",
    "딥러닝 입문\n",
    "1. 파이썬 기초\n",
    "2. 데이터 입문\n",
    "3. 머신러닝 이해\n",
    "4. 딥러닝의 원리\n",
    "5. 딥러닝 구현\n",
    "\n",
    "<지도학습의 빅픽처>\n",
    "원인      |     결과\n",
    "독립변수  |     종속변수\n",
    "\n",
    "온도      |     판매량\n",
    "\n",
    "1. 과거의 데이터를 준비\n",
    "2. 모델의 구조를 만듭니다.\n",
    "3. 데이터로 모델을 학습합니다.\n",
    "4. 모델을 사용합니다. \n",
    "\n",
    "#데이터 불러오기\n",
    "\n",
    "파일경로 = \"lemonade.csv\"\n",
    "데이터 = pd.read_csv(파일경로)\n",
    "\n",
    "#독립변수, 종속변수 분리\n",
    "독립 = 데이터[['온도']]\n",
    "종속 = 데이터[['판매량']]\n",
    "\n",
    "#데이터 모양 확인 \n",
    "print(독립.shape, 종속.shape)\n",
    "\n",
    "\"\"\""
   ]
  },
  {
   "cell_type": "code",
   "execution_count": null,
   "metadata": {},
   "outputs": [],
   "source": [
    "import pandas as pd"
   ]
  }
 ]
}