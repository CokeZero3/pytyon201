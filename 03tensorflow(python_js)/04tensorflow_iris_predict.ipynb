{
 "metadata": {
  "language_info": {
   "codemirror_mode": {
    "name": "ipython",
    "version": 3
   },
   "file_extension": ".py",
   "mimetype": "text/x-python",
   "name": "python",
   "nbconvert_exporter": "python",
   "pygments_lexer": "ipython3",
   "version": "3.8.3-final"
  },
  "orig_nbformat": 2,
  "kernelspec": {
   "name": "python3",
   "display_name": "Python 3",
   "language": "python"
  }
 },
 "nbformat": 4,
 "nbformat_minor": 2,
 "cells": [
  {
   "cell_type": "code",
   "execution_count": 20,
   "metadata": {},
   "outputs": [],
   "source": [
    "#라이브러리 불러오기\n",
    "import pandas as pd\n",
    "import tensorflow as tf\n"
   ]
  },
  {
   "cell_type": "code",
   "execution_count": 21,
   "metadata": {},
   "outputs": [
    {
     "output_type": "execute_result",
     "data": {
      "text/plain": [
       "   꽃잎길이  꽃잎폭  꽃받침길이  꽃받침폭      품종\n",
       "0   5.1  3.5    1.4   0.2  setosa\n",
       "1   4.9  3.0    1.4   0.2  setosa\n",
       "2   4.7  3.2    1.3   0.2  setosa\n",
       "3   4.6  3.1    1.5   0.2  setosa\n",
       "4   5.0  3.6    1.4   0.2  setosa"
      ],
      "text/html": "<div>\n<style scoped>\n    .dataframe tbody tr th:only-of-type {\n        vertical-align: middle;\n    }\n\n    .dataframe tbody tr th {\n        vertical-align: top;\n    }\n\n    .dataframe thead th {\n        text-align: right;\n    }\n</style>\n<table border=\"1\" class=\"dataframe\">\n  <thead>\n    <tr style=\"text-align: right;\">\n      <th></th>\n      <th>꽃잎길이</th>\n      <th>꽃잎폭</th>\n      <th>꽃받침길이</th>\n      <th>꽃받침폭</th>\n      <th>품종</th>\n    </tr>\n  </thead>\n  <tbody>\n    <tr>\n      <th>0</th>\n      <td>5.1</td>\n      <td>3.5</td>\n      <td>1.4</td>\n      <td>0.2</td>\n      <td>setosa</td>\n    </tr>\n    <tr>\n      <th>1</th>\n      <td>4.9</td>\n      <td>3.0</td>\n      <td>1.4</td>\n      <td>0.2</td>\n      <td>setosa</td>\n    </tr>\n    <tr>\n      <th>2</th>\n      <td>4.7</td>\n      <td>3.2</td>\n      <td>1.3</td>\n      <td>0.2</td>\n      <td>setosa</td>\n    </tr>\n    <tr>\n      <th>3</th>\n      <td>4.6</td>\n      <td>3.1</td>\n      <td>1.5</td>\n      <td>0.2</td>\n      <td>setosa</td>\n    </tr>\n    <tr>\n      <th>4</th>\n      <td>5.0</td>\n      <td>3.6</td>\n      <td>1.4</td>\n      <td>0.2</td>\n      <td>setosa</td>\n    </tr>\n  </tbody>\n</table>\n</div>"
     },
     "metadata": {},
     "execution_count": 21
    }
   ],
   "source": [
    "#학습할 데이터 준비\n",
    "path = 'https://raw.githubusercontent.com/blackdew/tensorflow1/master/csv/iris.csv'\n",
    "iris = pd.read_csv(path)\n",
    "iris.head()"
   ]
  },
  {
   "cell_type": "code",
   "execution_count": 22,
   "metadata": {},
   "outputs": [
    {
     "output_type": "execute_result",
     "data": {
      "text/plain": [
       "Index(['꽃잎길이', '꽃잎폭', '꽃받침길이', '꽃받침폭', '품종_setosa', '품종_versicolor',\n",
       "       '품종_virginica'],\n",
       "      dtype='object')"
      ]
     },
     "metadata": {},
     "execution_count": 22
    }
   ],
   "source": [
    "#원핫인코딩\n",
    "iris = pd.get_dummies(iris)\n",
    "iris.columns"
   ]
  },
  {
   "cell_type": "code",
   "execution_count": 24,
   "metadata": {},
   "outputs": [
    {
     "output_type": "stream",
     "name": "stdout",
     "text": [
      "(150, 4) (150, 3)\n"
     ]
    }
   ],
   "source": [
    "#독립변수, 종속변수 \n",
    "ind = iris[['꽃잎길이', '꽃잎폭', '꽃받침길이', '꽃받침폭']]\n",
    "dep = iris[['품종_setosa', '품종_versicolor', '품종_virginica']]\n",
    "print(ind.shape, dep.shape)"
   ]
  },
  {
   "cell_type": "code",
   "execution_count": 29,
   "metadata": {},
   "outputs": [],
   "source": [
    "\"\"\"\n",
    "분류 예측:\n",
    "    Sigmoid\n",
    "    Softmaxb 비율로 예측하기 위해  \n",
    "        차이점 숙제\n",
    "        -> 사용\n",
    "\"\"\"\n",
    "#2.모델의 구조를 만듭니다.\n",
    "\n",
    "X = tf.keras.layers.Input(shape=[4])\n",
    "Y = tf.keras.layers.Dense(3, activation='softmax')(X)\n",
    "model = tf.keras.models.Model(X, Y)\n",
    "model.compile(loss='categorical_crossentropy',\n",
    "              metrics='accuracy')"
   ]
  },
  {
   "cell_type": "code",
   "execution_count": 49,
   "metadata": {},
   "outputs": [
    {
     "output_type": "stream",
     "name": "stdout",
     "text": [
      "Epoch 1/100\n",
      "5/5 [==============================] - 0s 2ms/step - loss: 0.0476 - accuracy: 0.9800\n",
      "Epoch 2/100\n",
      "5/5 [==============================] - 0s 1ms/step - loss: 0.0473 - accuracy: 0.9800\n",
      "Epoch 3/100\n",
      "5/5 [==============================] - 0s 2ms/step - loss: 0.0471 - accuracy: 0.9800\n",
      "Epoch 4/100\n",
      "5/5 [==============================] - 0s 1ms/step - loss: 0.0469 - accuracy: 0.9800\n",
      "Epoch 5/100\n",
      "5/5 [==============================] - 0s 1ms/step - loss: 0.0471 - accuracy: 0.9800\n",
      "Epoch 6/100\n",
      "5/5 [==============================] - 0s 997us/step - loss: 0.0472 - accuracy: 0.9800\n",
      "Epoch 7/100\n",
      "5/5 [==============================] - 0s 1ms/step - loss: 0.0470 - accuracy: 0.9800\n",
      "Epoch 8/100\n",
      "5/5 [==============================] - 0s 2ms/step - loss: 0.0473 - accuracy: 0.9800\n",
      "Epoch 9/100\n",
      "5/5 [==============================] - 0s 1ms/step - loss: 0.0472 - accuracy: 0.9800\n",
      "Epoch 10/100\n",
      "5/5 [==============================] - 0s 1ms/step - loss: 0.0470 - accuracy: 0.9800\n",
      "Epoch 11/100\n",
      "5/5 [==============================] - 0s 1ms/step - loss: 0.0470 - accuracy: 0.9800\n",
      "Epoch 12/100\n",
      "5/5 [==============================] - 0s 1ms/step - loss: 0.0475 - accuracy: 0.9800\n",
      "Epoch 13/100\n",
      "5/5 [==============================] - 0s 1ms/step - loss: 0.0469 - accuracy: 0.9800\n",
      "Epoch 14/100\n",
      "5/5 [==============================] - 0s 1ms/step - loss: 0.0473 - accuracy: 0.9800\n",
      "Epoch 15/100\n",
      "5/5 [==============================] - 0s 997us/step - loss: 0.0471 - accuracy: 0.9800\n",
      "Epoch 16/100\n",
      "5/5 [==============================] - 0s 1ms/step - loss: 0.0470 - accuracy: 0.9800\n",
      "Epoch 17/100\n",
      "5/5 [==============================] - 0s 1ms/step - loss: 0.0476 - accuracy: 0.9800\n",
      "Epoch 18/100\n",
      "5/5 [==============================] - 0s 1ms/step - loss: 0.0470 - accuracy: 0.9800\n",
      "Epoch 19/100\n",
      "5/5 [==============================] - 0s 2ms/step - loss: 0.0471 - accuracy: 0.9800\n",
      "Epoch 20/100\n",
      "5/5 [==============================] - 0s 1ms/step - loss: 0.0471 - accuracy: 0.9800\n",
      "Epoch 21/100\n",
      "5/5 [==============================] - 0s 1ms/step - loss: 0.0469 - accuracy: 0.9800\n",
      "Epoch 22/100\n",
      "5/5 [==============================] - 0s 1ms/step - loss: 0.0471 - accuracy: 0.9800\n",
      "Epoch 23/100\n",
      "5/5 [==============================] - 0s 1ms/step - loss: 0.0472 - accuracy: 0.9800\n",
      "Epoch 24/100\n",
      "5/5 [==============================] - 0s 2ms/step - loss: 0.0472 - accuracy: 0.9800\n",
      "Epoch 25/100\n",
      "5/5 [==============================] - 0s 2ms/step - loss: 0.0470 - accuracy: 0.9800\n",
      "Epoch 26/100\n",
      "5/5 [==============================] - 0s 2ms/step - loss: 0.0470 - accuracy: 0.9800\n",
      "Epoch 27/100\n",
      "5/5 [==============================] - 0s 1ms/step - loss: 0.0477 - accuracy: 0.9800\n",
      "Epoch 28/100\n",
      "5/5 [==============================] - 0s 1ms/step - loss: 0.0469 - accuracy: 0.9800\n",
      "Epoch 29/100\n",
      "5/5 [==============================] - 0s 1ms/step - loss: 0.0471 - accuracy: 0.9800\n",
      "Epoch 30/100\n",
      "5/5 [==============================] - 0s 1ms/step - loss: 0.0475 - accuracy: 0.9800\n",
      "Epoch 31/100\n",
      "5/5 [==============================] - 0s 1ms/step - loss: 0.0470 - accuracy: 0.9800\n",
      "Epoch 32/100\n",
      "5/5 [==============================] - 0s 1ms/step - loss: 0.0470 - accuracy: 0.9800\n",
      "Epoch 33/100\n",
      "5/5 [==============================] - 0s 1ms/step - loss: 0.0472 - accuracy: 0.9800\n",
      "Epoch 34/100\n",
      "5/5 [==============================] - 0s 2ms/step - loss: 0.0473 - accuracy: 0.9800\n",
      "Epoch 35/100\n",
      "5/5 [==============================] - 0s 2ms/step - loss: 0.0473 - accuracy: 0.9800\n",
      "Epoch 36/100\n",
      "5/5 [==============================] - 0s 2ms/step - loss: 0.0472 - accuracy: 0.9800\n",
      "Epoch 37/100\n",
      "5/5 [==============================] - 0s 998us/step - loss: 0.0470 - accuracy: 0.9800\n",
      "Epoch 38/100\n",
      "5/5 [==============================] - 0s 1ms/step - loss: 0.0474 - accuracy: 0.9800\n",
      "Epoch 39/100\n",
      "5/5 [==============================] - 0s 998us/step - loss: 0.0470 - accuracy: 0.9800\n",
      "Epoch 40/100\n",
      "5/5 [==============================] - 0s 997us/step - loss: 0.0473 - accuracy: 0.9800\n",
      "Epoch 41/100\n",
      "5/5 [==============================] - 0s 2ms/step - loss: 0.0470 - accuracy: 0.9800\n",
      "Epoch 42/100\n",
      "5/5 [==============================] - 0s 1ms/step - loss: 0.0470 - accuracy: 0.9800\n",
      "Epoch 43/100\n",
      "5/5 [==============================] - 0s 2ms/step - loss: 0.0469 - accuracy: 0.9800\n",
      "Epoch 44/100\n",
      "5/5 [==============================] - 0s 2ms/step - loss: 0.0470 - accuracy: 0.9800\n",
      "Epoch 45/100\n",
      "5/5 [==============================] - 0s 2ms/step - loss: 0.0471 - accuracy: 0.9800\n",
      "Epoch 46/100\n",
      "5/5 [==============================] - 0s 1ms/step - loss: 0.0472 - accuracy: 0.9800\n",
      "Epoch 47/100\n",
      "5/5 [==============================] - 0s 1ms/step - loss: 0.0471 - accuracy: 0.9800\n",
      "Epoch 48/100\n",
      "5/5 [==============================] - 0s 1ms/step - loss: 0.0471 - accuracy: 0.9800\n",
      "Epoch 49/100\n",
      "5/5 [==============================] - 0s 997us/step - loss: 0.0471 - accuracy: 0.9800\n",
      "Epoch 50/100\n",
      "5/5 [==============================] - 0s 1ms/step - loss: 0.0470 - accuracy: 0.9800\n",
      "Epoch 51/100\n",
      "5/5 [==============================] - 0s 997us/step - loss: 0.0472 - accuracy: 0.9800\n",
      "Epoch 52/100\n",
      "5/5 [==============================] - 0s 1ms/step - loss: 0.0471 - accuracy: 0.9800\n",
      "Epoch 53/100\n",
      "5/5 [==============================] - 0s 2ms/step - loss: 0.0472 - accuracy: 0.9800\n",
      "Epoch 54/100\n",
      "5/5 [==============================] - 0s 1ms/step - loss: 0.0470 - accuracy: 0.9800\n",
      "Epoch 55/100\n",
      "5/5 [==============================] - 0s 1ms/step - loss: 0.0470 - accuracy: 0.9800\n",
      "Epoch 56/100\n",
      "5/5 [==============================] - 0s 1ms/step - loss: 0.0469 - accuracy: 0.9800\n",
      "Epoch 57/100\n",
      "5/5 [==============================] - 0s 1ms/step - loss: 0.0469 - accuracy: 0.9800\n",
      "Epoch 58/100\n",
      "5/5 [==============================] - 0s 1ms/step - loss: 0.0474 - accuracy: 0.9800\n",
      "Epoch 59/100\n",
      "5/5 [==============================] - 0s 1ms/step - loss: 0.0470 - accuracy: 0.9800\n",
      "Epoch 60/100\n",
      "5/5 [==============================] - 0s 1ms/step - loss: 0.0472 - accuracy: 0.9800\n",
      "Epoch 61/100\n",
      "5/5 [==============================] - 0s 1ms/step - loss: 0.0469 - accuracy: 0.9800\n",
      "Epoch 62/100\n",
      "5/5 [==============================] - 0s 2ms/step - loss: 0.0474 - accuracy: 0.9800\n",
      "Epoch 63/100\n",
      "5/5 [==============================] - 0s 2ms/step - loss: 0.0473 - accuracy: 0.9800\n",
      "Epoch 64/100\n",
      "5/5 [==============================] - 0s 1ms/step - loss: 0.0471 - accuracy: 0.9800\n",
      "Epoch 65/100\n",
      "5/5 [==============================] - 0s 2ms/step - loss: 0.0469 - accuracy: 0.9800\n",
      "Epoch 66/100\n",
      "5/5 [==============================] - 0s 2ms/step - loss: 0.0471 - accuracy: 0.9800\n",
      "Epoch 67/100\n",
      "5/5 [==============================] - 0s 2ms/step - loss: 0.0474 - accuracy: 0.9800\n",
      "Epoch 68/100\n",
      "5/5 [==============================] - 0s 2ms/step - loss: 0.0470 - accuracy: 0.9800\n",
      "Epoch 69/100\n",
      "5/5 [==============================] - 0s 1ms/step - loss: 0.0472 - accuracy: 0.9800\n",
      "Epoch 70/100\n",
      "5/5 [==============================] - 0s 1ms/step - loss: 0.0470 - accuracy: 0.9800\n",
      "Epoch 71/100\n",
      "5/5 [==============================] - 0s 1ms/step - loss: 0.0475 - accuracy: 0.9800\n",
      "Epoch 72/100\n",
      "5/5 [==============================] - 0s 1ms/step - loss: 0.0470 - accuracy: 0.9800\n",
      "Epoch 73/100\n",
      "5/5 [==============================] - 0s 1ms/step - loss: 0.0472 - accuracy: 0.9800\n",
      "Epoch 74/100\n",
      "5/5 [==============================] - 0s 997us/step - loss: 0.0472 - accuracy: 0.9800\n",
      "Epoch 75/100\n",
      "5/5 [==============================] - 0s 1ms/step - loss: 0.0469 - accuracy: 0.9800\n",
      "Epoch 76/100\n",
      "5/5 [==============================] - 0s 1ms/step - loss: 0.0469 - accuracy: 0.9800\n",
      "Epoch 77/100\n",
      "5/5 [==============================] - 0s 1ms/step - loss: 0.0476 - accuracy: 0.9800\n",
      "Epoch 78/100\n",
      "5/5 [==============================] - 0s 1ms/step - loss: 0.0474 - accuracy: 0.9800\n",
      "Epoch 79/100\n",
      "5/5 [==============================] - 0s 997us/step - loss: 0.0472 - accuracy: 0.9800\n",
      "Epoch 80/100\n",
      "5/5 [==============================] - 0s 1ms/step - loss: 0.0471 - accuracy: 0.9800\n",
      "Epoch 81/100\n",
      "5/5 [==============================] - 0s 1ms/step - loss: 0.0469 - accuracy: 0.9800\n",
      "Epoch 82/100\n",
      "5/5 [==============================] - 0s 1ms/step - loss: 0.0471 - accuracy: 0.9800\n",
      "Epoch 83/100\n",
      "5/5 [==============================] - 0s 2ms/step - loss: 0.0470 - accuracy: 0.9800\n",
      "Epoch 84/100\n",
      "5/5 [==============================] - 0s 2ms/step - loss: 0.0473 - accuracy: 0.9800\n",
      "Epoch 85/100\n",
      "5/5 [==============================] - 0s 2ms/step - loss: 0.0475 - accuracy: 0.9800\n",
      "Epoch 86/100\n",
      "5/5 [==============================] - 0s 1ms/step - loss: 0.0472 - accuracy: 0.9800\n",
      "Epoch 87/100\n",
      "5/5 [==============================] - 0s 1ms/step - loss: 0.0470 - accuracy: 0.9800\n",
      "Epoch 88/100\n",
      "5/5 [==============================] - 0s 1ms/step - loss: 0.0469 - accuracy: 0.9800\n",
      "Epoch 89/100\n",
      "5/5 [==============================] - 0s 1ms/step - loss: 0.0468 - accuracy: 0.9800\n",
      "Epoch 90/100\n",
      "5/5 [==============================] - 0s 2ms/step - loss: 0.0475 - accuracy: 0.9800\n",
      "Epoch 91/100\n",
      "5/5 [==============================] - 0s 2ms/step - loss: 0.0476 - accuracy: 0.9800\n",
      "Epoch 92/100\n",
      "5/5 [==============================] - 0s 998us/step - loss: 0.0469 - accuracy: 0.9800\n",
      "Epoch 93/100\n",
      "5/5 [==============================] - 0s 1ms/step - loss: 0.0472 - accuracy: 0.9800\n",
      "Epoch 94/100\n",
      "5/5 [==============================] - 0s 996us/step - loss: 0.0472 - accuracy: 0.9800\n",
      "Epoch 95/100\n",
      "5/5 [==============================] - 0s 1ms/step - loss: 0.0470 - accuracy: 0.9800\n",
      "Epoch 96/100\n",
      "5/5 [==============================] - 0s 1ms/step - loss: 0.0472 - accuracy: 0.9800\n",
      "Epoch 97/100\n",
      "5/5 [==============================] - 0s 1ms/step - loss: 0.0471 - accuracy: 0.9800\n",
      "Epoch 98/100\n",
      "5/5 [==============================] - 0s 997us/step - loss: 0.0473 - accuracy: 0.9800\n",
      "Epoch 99/100\n",
      "5/5 [==============================] - 0s 1ms/step - loss: 0.0469 - accuracy: 0.9800\n",
      "Epoch 100/100\n",
      "5/5 [==============================] - 0s 1ms/step - loss: 0.0473 - accuracy: 0.9800\n"
     ]
    },
    {
     "output_type": "execute_result",
     "data": {
      "text/plain": [
       "<tensorflow.python.keras.callbacks.History at 0x22127918f40>"
      ]
     },
     "metadata": {},
     "execution_count": 49
    }
   ],
   "source": [
    "# 3.데이터로 모델을 학습(FIT)합니다.\n",
    "# model.fit(ind, dep, epochs=10000, verbose=0)\n",
    "model.fit(ind, dep, epochs=10)"
   ]
  },
  {
   "cell_type": "code",
   "execution_count": 55,
   "metadata": {},
   "outputs": [
    {
     "output_type": "stream",
     "name": "stdout",
     "text": [
      "[[1.9744200e-25 1.4893911e-03 9.9851054e-01]\n [1.2675511e-23 1.1231993e-02 9.8876804e-01]\n [7.3712570e-23 2.0564791e-02 9.7943521e-01]\n [3.7688184e-26 6.4424350e-04 9.9935573e-01]\n [1.3198513e-21 5.3317487e-02 9.4668257e-01]]\n     품종_setosa  품종_versicolor  품종_virginica\n145          0              0             1\n146          0              0             1\n147          0              0             1\n148          0              0             1\n149          0              0             1\n"
     ]
    }
   ],
   "source": [
    "# 4. 모델을 이용합니다\n",
    "# 맨 처음 데이터 5개\n",
    "\n",
    "print(model.predict(ind[-5:]))\n",
    "print(dep[-5:])"
   ]
  },
  {
   "cell_type": "code",
   "execution_count": 56,
   "metadata": {},
   "outputs": [
    {
     "output_type": "execute_result",
     "data": {
      "text/plain": [
       "[array([[  4.811459 ,   1.3725691,  -1.5846368],\n",
       "        [ 10.472301 ,   1.5235671,  -3.094339 ],\n",
       "        [-15.722176 ,  -2.3316615,   3.7055898],\n",
       "        [-18.762222 ,  -5.478724 ,   5.3077474]], dtype=float32),\n",
       " array([ 7.4657645,  7.544773 , -8.482923 ], dtype=float32)]"
      ]
     },
     "metadata": {},
     "execution_count": 56
    }
   ],
   "source": [
    "# 학습한 가중치\n",
    "model.get_weights()"
   ]
  }
 ]
}