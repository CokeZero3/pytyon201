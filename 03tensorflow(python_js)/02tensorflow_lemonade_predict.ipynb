{
 "metadata": {
  "language_info": {
   "codemirror_mode": {
    "name": "ipython",
    "version": 3
   },
   "file_extension": ".py",
   "mimetype": "text/x-python",
   "name": "python",
   "nbconvert_exporter": "python",
   "pygments_lexer": "ipython3",
   "version": "3.8.3-final"
  },
  "orig_nbformat": 2,
  "kernelspec": {
   "name": "python3",
   "display_name": "Python 3",
   "language": "python"
  }
 },
 "nbformat": 4,
 "nbformat_minor": 2,
 "cells": [
  {
   "cell_type": "code",
   "execution_count": 6,
   "metadata": {},
   "outputs": [],
   "source": [
    "#1.라이브러리 사용\n",
    "import tensorflow as tf\n",
    "import pandas as pd"
   ]
  },
  {
   "cell_type": "code",
   "execution_count": 11,
   "metadata": {},
   "outputs": [
    {
     "output_type": "execute_result",
     "data": {
      "text/plain": [
       "   온도  판매량\n",
       "0  20   40\n",
       "1  21   42\n",
       "2  22   44\n",
       "3  23   46\n",
       "4  24   48"
      ],
      "text/html": "<div>\n<style scoped>\n    .dataframe tbody tr th:only-of-type {\n        vertical-align: middle;\n    }\n\n    .dataframe tbody tr th {\n        vertical-align: top;\n    }\n\n    .dataframe thead th {\n        text-align: right;\n    }\n</style>\n<table border=\"1\" class=\"dataframe\">\n  <thead>\n    <tr style=\"text-align: right;\">\n      <th></th>\n      <th>온도</th>\n      <th>판매량</th>\n    </tr>\n  </thead>\n  <tbody>\n    <tr>\n      <th>0</th>\n      <td>20</td>\n      <td>40</td>\n    </tr>\n    <tr>\n      <th>1</th>\n      <td>21</td>\n      <td>42</td>\n    </tr>\n    <tr>\n      <th>2</th>\n      <td>22</td>\n      <td>44</td>\n    </tr>\n    <tr>\n      <th>3</th>\n      <td>23</td>\n      <td>46</td>\n    </tr>\n    <tr>\n      <th>4</th>\n      <td>24</td>\n      <td>48</td>\n    </tr>\n  </tbody>\n</table>\n</div>"
     },
     "metadata": {},
     "execution_count": 11
    }
   ],
   "source": [
    "#2.데이터 준비\n",
    "path = \"https://raw.githubusercontent.com/blackdew/tensorflow1/master/csv/lemonade.csv\"\n",
    "lemonade = pd.read_csv(path)\n",
    "lemonade.head()\n"
   ]
  },
  {
   "cell_type": "code",
   "execution_count": 12,
   "metadata": {},
   "outputs": [
    {
     "output_type": "stream",
     "name": "stdout",
     "text": [
      "(6, 1) (6, 1)\n"
     ]
    }
   ],
   "source": [
    "#독립변수 종속변수 분리\n",
    "ind = lemonade[['온도']]\n",
    "dep = lemonade[['판매량']]\n",
    "print(ind.shape, dep.shape)"
   ]
  },
  {
   "cell_type": "code",
   "execution_count": 14,
   "metadata": {},
   "outputs": [],
   "source": [
    "#3. 모델을 만듭니다.\n",
    "X = tf.keras.layers.Input(shape=[1])\n",
    "Y = tf.keras.layers.Dense(1)(X)\n",
    "model = tf.keras.models.Model(X, Y)\n",
    "model.compile(loss='mse')\n"
   ]
  },
  {
   "cell_type": "code",
   "execution_count": 26,
   "metadata": {
    "tags": []
   },
   "outputs": [
    {
     "output_type": "stream",
     "name": "stdout",
     "text": [
      "Epoch 1/10\n",
      "1/1 [==============================] - 0s 2ms/step - loss: 1.5222e-04\n",
      "Epoch 2/10\n",
      "1/1 [==============================] - 0s 2ms/step - loss: 1.5220e-04\n",
      "Epoch 3/10\n",
      "1/1 [==============================] - 0s 1ms/step - loss: 1.5225e-04\n",
      "Epoch 4/10\n",
      "1/1 [==============================] - 0s 1ms/step - loss: 1.5232e-04\n",
      "Epoch 5/10\n",
      "1/1 [==============================] - 0s 1ms/step - loss: 1.5234e-04\n",
      "Epoch 6/10\n",
      "1/1 [==============================] - 0s 2ms/step - loss: 1.5239e-04\n",
      "Epoch 7/10\n",
      "1/1 [==============================] - 0s 995us/step - loss: 1.5236e-04\n",
      "Epoch 8/10\n",
      "1/1 [==============================] - 0s 988us/step - loss: 1.5224e-04\n",
      "Epoch 9/10\n",
      "1/1 [==============================] - 0s 2ms/step - loss: 1.5210e-04\n",
      "Epoch 10/10\n",
      "1/1 [==============================] - 0s 2ms/step - loss: 1.5206e-04\n"
     ]
    },
    {
     "output_type": "execute_result",
     "data": {
      "text/plain": [
       "<tensorflow.python.keras.callbacks.History at 0x21c2f727790>"
      ]
     },
     "metadata": {},
     "execution_count": 26
    }
   ],
   "source": [
    "#4. 모델을 학습합니다.\n",
    "# epochs = 10  -> 10번 학습\n",
    "# verbose = 0 화면 출력 안보여주는 것\n",
    "# model.fit(ind, dep, epochs=10000, verbose=0)\n",
    "model.fit(ind, dep, epochs=1다다)"
   ]
  },
  {
   "cell_type": "code",
   "execution_count": 28,
   "metadata": {},
   "outputs": [
    {
     "output_type": "execute_result",
     "data": {
      "text/plain": [
       "array([[39.995117],\n",
       "       [41.992477],\n",
       "       [43.98984 ],\n",
       "       [45.9872  ],\n",
       "       [47.984562],\n",
       "       [49.981926]], dtype=float32)"
      ]
     },
     "metadata": {},
     "execution_count": 28
    }
   ],
   "source": [
    "#5. 모델을 이용합니다\n",
    "model.predict(ind) "
   ]
  },
  {
   "cell_type": "code",
   "execution_count": 35,
   "metadata": {},
   "outputs": [
    {
     "output_type": "execute_result",
     "data": {
      "text/plain": [
       "array([[30.00831]], dtype=float32)"
      ]
     },
     "metadata": {},
     "execution_count": 35
    }
   ],
   "source": [
    "model.predict([15])"
   ]
  }
 ]
}